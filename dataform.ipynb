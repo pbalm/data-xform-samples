{
 "cells": [
  {
   "cell_type": "markdown",
   "id": "52bac680-6df6-48be-b516-0cb9ff811d52",
   "metadata": {},
   "source": [
    "# Dataform CLI on Cloud Run\n",
    "\n",
    "Use IAM to give Storage Object Admin role to the default Cloud Build principal.\n",
    "\n",
    "If you don't have npm installed, install it:"
   ]
  },
  {
   "cell_type": "code",
   "execution_count": null,
   "id": "84e29b08-1d88-4424-a050-20412ca1a921",
   "metadata": {},
   "outputs": [],
   "source": [
    "!sudo apt install nodejs npm"
   ]
  },
  {
   "cell_type": "markdown",
   "id": "476b3dd7-c630-42c4-a3b9-238830b17e36",
   "metadata": {
    "tags": []
   },
   "source": [
    "Install the Dataform CLI and initialize:"
   ]
  },
  {
   "cell_type": "code",
   "execution_count": null,
   "id": "a9c78d00-e8eb-41df-9cfd-310c036c6c1a",
   "metadata": {},
   "outputs": [],
   "source": [
    "!npm i -g @dataform/cli"
   ]
  },
  {
   "cell_type": "markdown",
   "id": "e47d723d-0bb6-49a3-b7d0-d50323e9f7bb",
   "metadata": {},
   "source": [
    "Enable APIs that we will need:"
   ]
  },
  {
   "cell_type": "code",
   "execution_count": null,
   "id": "aa9302b3-c750-4803-bb05-f38f53ced1bf",
   "metadata": {},
   "outputs": [],
   "source": [
    "!gcloud services enable artifactregistry.googleapis.com\n",
    "!gcloud services enable cloudbuild.googleapis.com\n",
    "!gcloud services enable datacatalog.googleapis.com\n",
    "!gcloud services enable datalineage.googleapis.com\n",
    "!gcloud services enable run.googleapis.com"
   ]
  },
  {
   "cell_type": "markdown",
   "id": "f98650b8-b625-45e1-9f09-72045afbdb60",
   "metadata": {},
   "source": [
    "Create a dataform settings config file, just so that the next `dataform init` call does not ask for command line input:"
   ]
  },
  {
   "cell_type": "code",
   "execution_count": null,
   "id": "ed9164fa-4230-49f2-bd81-e9523d9563ab",
   "metadata": {},
   "outputs": [],
   "source": [
    "!mkdir -p /home/jupyter/.dataform/"
   ]
  },
  {
   "cell_type": "code",
   "execution_count": null,
   "id": "66d7c052-9eea-433b-83e3-839152309269",
   "metadata": {},
   "outputs": [],
   "source": [
    "%%writefile /home/jupyter/.dataform/settings.json\n",
    "{\n",
    "    \"allowAnonymousAnalytics\": false\n",
    "}\n"
   ]
  },
  {
   "cell_type": "markdown",
   "id": "ddc1bd28-1d3b-4a69-9441-f39753d21108",
   "metadata": {},
   "source": [
    "Initialize a dataform project:"
   ]
  },
  {
   "cell_type": "code",
   "execution_count": null,
   "id": "dae4ee01-e737-4961-a817-4dd6166b1644",
   "metadata": {},
   "outputs": [],
   "source": [
    "DATAFORM_DIR = 'dataform_proj_dir'"
   ]
  },
  {
   "cell_type": "code",
   "execution_count": null,
   "id": "f334e324-fcd2-427d-8175-088a33f21252",
   "metadata": {},
   "outputs": [],
   "source": [
    "%%bash\n",
    "export REGION=europe-west4\n",
    "export PROJECT_ID=$(gcloud config get project)\n",
    "export DATAFORM_DIR=dataform_proj_dir\n",
    "\n",
    "dataform init bigquery $DATAFORM_DIR --default-database $PROJECT_ID --default-location $REGION\n",
    "\n",
    "cat << EOF > $DATAFORM_DIR/.df-credentials.json\n",
    "{\n",
    "    \"projectId\": \"${PROJECT_ID}\",\n",
    "    \"location\": \"${REGION}\"\n",
    "}\n",
    "EOF"
   ]
  },
  {
   "cell_type": "code",
   "execution_count": null,
   "id": "79be7f19-61cc-4cf0-8b90-3d43fe933a69",
   "metadata": {},
   "outputs": [],
   "source": [
    "!bq --location=$REGION mk --dataset ${PROJECT_ID}.prod_raw\n",
    "!bq --location=$REGION mk --dataset ${PROJECT_ID}.dataform"
   ]
  },
  {
   "cell_type": "code",
   "execution_count": null,
   "id": "ecf6325d-07f7-4f65-8493-2c3ca313d2a7",
   "metadata": {},
   "outputs": [],
   "source": [
    "!bq load --source_format=PARQUET prod_raw.sales_data data/sales.parquet"
   ]
  },
  {
   "cell_type": "code",
   "execution_count": null,
   "id": "65278294-1524-4fee-826b-4a45c47eb712",
   "metadata": {},
   "outputs": [],
   "source": [
    "!mkdir -p $DATAFORM_DIR/definitions/sources"
   ]
  },
  {
   "cell_type": "code",
   "execution_count": null,
   "id": "6eeb51d9-c93d-4c26-a8bf-d62001946536",
   "metadata": {},
   "outputs": [],
   "source": [
    "%%writefile $DATAFORM_DIR/definitions/sources/sales.sqlx\n",
    "\n",
    "config {\n",
    "    type: \"declaration\",\n",
    "    schema: \"prod_raw\",\n",
    "    name: \"sales_data\",\n",
    "    description: \"Ingested sales data\"\n",
    "}"
   ]
  },
  {
   "cell_type": "code",
   "execution_count": null,
   "id": "7dfbe8c5-2463-46a8-911a-04c8b880bae0",
   "metadata": {},
   "outputs": [],
   "source": [
    "!mkdir -p $DATAFORM_DIR/definitions/sales_data_aggregated"
   ]
  },
  {
   "cell_type": "code",
   "execution_count": null,
   "id": "b82db95c-ca28-49af-919e-359b7b49fc9e",
   "metadata": {},
   "outputs": [],
   "source": [
    "%%writefile $DATAFORM_DIR/definitions/sales_data_aggregated/sales_data_agg.sqlx\n",
    "config {\n",
    "    type: \"table\"\n",
    "}\n",
    "\n",
    "WITH daily_orders AS (\n",
    "SELECT\n",
    "  DATE(orderdate) AS order_date, \n",
    "  PRODUCTLINE AS product_line,\n",
    "  ROUND(SUM(SALES), 1) AS sales_value\n",
    "FROM\n",
    "  ${ref(\"sales_data\")}\n",
    "WHERE\n",
    "  STATUS = \"Shipped\"\n",
    "GROUP BY\n",
    "  1,\n",
    "  2)\n",
    "SELECT order_date, product_line, sales_value, \n",
    "ROUND(SUM(sales_value) OVER (ORDER BY DATE(order_date) ROWS BETWEEN 7 PRECEDING AND CURRENT ROW  ), 1) AS rolling_average\n",
    "FROM daily_orders\n",
    "ORDER BY 1 DESC"
   ]
  },
  {
   "cell_type": "code",
   "execution_count": null,
   "id": "4170a20b-fc42-4583-9aae-eaf540320487",
   "metadata": {},
   "outputs": [],
   "source": [
    "!dataform run $DATAFORM_DIR"
   ]
  },
  {
   "cell_type": "code",
   "execution_count": null,
   "id": "b2d2c408-f7a1-4d48-b5f8-217b64ff4bd8",
   "metadata": {},
   "outputs": [],
   "source": [
    "!gcloud config set artifacts/location europe-west4"
   ]
  },
  {
   "cell_type": "code",
   "execution_count": null,
   "id": "801f5163-baed-4f1d-ab57-8764700dcc4f",
   "metadata": {},
   "outputs": [],
   "source": [
    "!gcloud artifacts repositories create dataform --repository-format=docker"
   ]
  },
  {
   "cell_type": "code",
   "execution_count": null,
   "id": "ecb7fba9-9a65-4e7b-923d-a30907651042",
   "metadata": {},
   "outputs": [],
   "source": [
    "%%writefile $DATAFORM_DIR/Dockerfile\n",
    "FROM dataformco/dataform\n",
    "\n",
    "# Set working directory\n",
    "ENV DATAFORM_DIR /dataform/\n",
    "WORKDIR $DATAFORM_DIR\n",
    "\n",
    "# Copy files to the image\n",
    "COPY . $DATAFORM_DIR\n",
    "\n",
    "# Install the latest npm dependencies\n",
    "RUN npm install\n",
    "\n",
    "# Run the application\n",
    "ENTRYPOINT [\"dataform\", \"run\"]"
   ]
  },
  {
   "cell_type": "code",
   "execution_count": null,
   "id": "f82639e6-d54d-4e98-9024-29f25d696e3f",
   "metadata": {},
   "outputs": [],
   "source": [
    "%%writefile $DATAFORM_DIR/cloudbuild.yaml\n",
    "steps:\n",
    "- name: gcr.io/cloud-builders/docker\n",
    "  id: Build Dataform image\n",
    "  env: \n",
    "    - 'DOCKER_BUILDKIT=1'\n",
    "  args: [\n",
    "      'build',\n",
    "      '-t', 'europe-west4-docker.pkg.dev/${PROJECT_ID}/dataform/dataform-demo',\n",
    "      '--cache-from', 'europe-west4-docker.pkg.dev/${PROJECT_ID}/dataform/dataform-demo:latest',\n",
    "      '.'\n",
    "    ]\n",
    "\n",
    "- name: gcr.io/cloud-builders/docker\n",
    "  id: Push Dataform image to Artifact Registry\n",
    "  args: [\n",
    "      'push',\n",
    "      'europe-west4-docker.pkg.dev/${PROJECT_ID}/dataform/dataform-demo:latest'\n",
    "    ]\n",
    "\n",
    "options:\n",
    "  logging: CLOUD_LOGGING_ONLY"
   ]
  },
  {
   "cell_type": "code",
   "execution_count": null,
   "id": "0225c2ae-5524-48e7-9887-e72aa9ed4a47",
   "metadata": {},
   "outputs": [],
   "source": [
    "!gcloud builds submit dataform_proj_dir --config=dataform_proj_dir/cloudbuild.yaml --region=europe-west4"
   ]
  },
  {
   "cell_type": "markdown",
   "id": "efaf3824-a8a6-4aed-ba08-488353b0afd6",
   "metadata": {},
   "source": [
    "Now you can test it:\n",
    "    \n",
    "```\n",
    "docker pull europe-west4-docker.pkg.dev/${PROJECT_ID}/dataform/dataform-demo:latest\n",
    "docker run europe-west4-docker.pkg.dev/${PROJECT_ID}/dataform/dataform-demo:latest\n",
    "```\n",
    "\n",
    "The output should be:\n",
    "\n",
    "```\n",
    "Compiling...\n",
    "\n",
    "Compiled successfully.\n",
    "\n",
    "Running...\n",
    "\n",
    "Dataset created:  dataform.sales_data_agg [table]\n",
    "```\n"
   ]
  },
  {
   "cell_type": "code",
   "execution_count": null,
   "id": "0d1abc93-efe1-4321-9a79-d832ea0b2e61",
   "metadata": {},
   "outputs": [],
   "source": [
    "import os\n",
    "PROJECT_ID = os.popen('gcloud config get project').read()[:-1]"
   ]
  },
  {
   "cell_type": "code",
   "execution_count": null,
   "id": "1675fa4e-aab7-4d4d-bf46-09ec5c7a8c7a",
   "metadata": {},
   "outputs": [],
   "source": [
    "!gcloud beta run jobs create dataform-demo --image europe-west4-docker.pkg.dev/$PROJECT_ID/dataform/dataform-demo:latest --region europe-west4"
   ]
  },
  {
   "cell_type": "code",
   "execution_count": null,
   "id": "d1e97469-bd51-4f65-bf72-1730218f60b2",
   "metadata": {},
   "outputs": [],
   "source": [
    "!gcloud beta run jobs execute dataform-demo --region europe-west4"
   ]
  },
  {
   "cell_type": "code",
   "execution_count": null,
   "id": "35955eb4-1ccf-4912-9b8c-578c96df73ef",
   "metadata": {},
   "outputs": [],
   "source": []
  }
 ],
 "metadata": {
  "environment": {
   "kernel": "python3",
   "name": "tf2-gpu.2-8.m102",
   "type": "gcloud",
   "uri": "gcr.io/deeplearning-platform-release/tf2-gpu.2-8:m102"
  },
  "kernelspec": {
   "display_name": "Python 3 (ipykernel)",
   "language": "python",
   "name": "python3"
  },
  "language_info": {
   "codemirror_mode": {
    "name": "ipython",
    "version": 3
   },
   "file_extension": ".py",
   "mimetype": "text/x-python",
   "name": "python",
   "nbconvert_exporter": "python",
   "pygments_lexer": "ipython3",
   "version": "3.7.12"
  }
 },
 "nbformat": 4,
 "nbformat_minor": 5
}
